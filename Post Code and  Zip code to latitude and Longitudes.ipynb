{
 "cells": [
  {
   "cell_type": "code",
   "execution_count": 1,
   "id": "3f8c3534",
   "metadata": {},
   "outputs": [],
   "source": [
    "# importing the necessary lbraries\n",
    "import requests\n",
    "from pprint import pprint"
   ]
  },
  {
   "cell_type": "markdown",
   "id": "f3cc2f4c",
   "metadata": {},
   "source": [
    "Specifying the Base Url of the Nominatim API that converts the zip amd postal codes to longitudes and latitudes and vice versa. The Nominatim API employs the openstreetmap system."
   ]
  },
  {
   "cell_type": "code",
   "execution_count": 4,
   "id": "58ed4a65",
   "metadata": {},
   "outputs": [],
   "source": [
    "BASE_URL= 'https://nominatim.openstreetmap.org/search?format=json'"
   ]
  },
  {
   "cell_type": "markdown",
   "id": "f7c56b6c",
   "metadata": {},
   "source": [
    "using the GET request to obtain teh geo location of a sample zip and postal code"
   ]
  },
  {
   "cell_type": "code",
   "execution_count": 25,
   "id": "c9a251c8",
   "metadata": {},
   "outputs": [
    {
     "data": {
      "text/plain": [
       "[{'place_id': 332943531,\n",
       "  'licence': 'Data © OpenStreetMap contributors, ODbL 1.0. http://osm.org/copyright',\n",
       "  'lat': '-0.08174534666666666',\n",
       "  'lon': '34.76856852',\n",
       "  'class': 'place',\n",
       "  'type': 'postcode',\n",
       "  'place_rank': 21,\n",
       "  'importance': 0.22500009999999993,\n",
       "  'addresstype': 'postcode',\n",
       "  'name': '40100',\n",
       "  'display_name': 'Railways ward, Kisumu, City of Kisumu, Kisumu West, 40100, Kisumu, Nyanza, Kenya',\n",
       "  'boundingbox': ['-0.2417453', '0.0782547', '34.6085685', '34.9285685']}]"
      ]
     },
     "execution_count": 25,
     "metadata": {},
     "output_type": "execute_result"
    }
   ],
   "source": [
    "post_code = 40100\n",
    "response = requests.get(f\"{BASE_URL}&postalcode={post_code}&country=kenya\")\n",
    "data = response.json()\n",
    "data"
   ]
  },
  {
   "cell_type": "markdown",
   "id": "8487d57c",
   "metadata": {},
   "source": [
    "getting the latitude and longitude of the data"
   ]
  },
  {
   "cell_type": "code",
   "execution_count": 26,
   "id": "e73994c9",
   "metadata": {},
   "outputs": [
    {
     "data": {
      "text/plain": [
       "('-0.08174534666666666', '34.76856852')"
      ]
     },
     "execution_count": 26,
     "metadata": {},
     "output_type": "execute_result"
    }
   ],
   "source": [
    "latitude = data[0].get('lat')\n",
    "longitude = data[0].get('lon')\n",
    "(latitude, longitude)"
   ]
  },
  {
   "cell_type": "code",
   "execution_count": 18,
   "id": "136284c4",
   "metadata": {},
   "outputs": [
    {
     "data": {
      "text/plain": [
       "[{'place_id': 332943508,\n",
       "  'licence': 'Data © OpenStreetMap contributors, ODbL 1.0. http://osm.org/copyright',\n",
       "  'lat': '-0.26204341666666664',\n",
       "  'lon': '36.10146096666667',\n",
       "  'class': 'place',\n",
       "  'type': 'postcode',\n",
       "  'place_rank': 21,\n",
       "  'importance': 0.22500009999999993,\n",
       "  'addresstype': 'postcode',\n",
       "  'name': '20100',\n",
       "  'display_name': 'Kiamaina ward, Bahati, 20100, Nakuru, Rift Valley, Kenya',\n",
       "  'boundingbox': ['-0.4220434', '-0.1020434', '35.9414610', '36.2614610']}]"
      ]
     },
     "execution_count": 18,
     "metadata": {},
     "output_type": "execute_result"
    }
   ],
   "source": [
    "Zip_code = 20100\n",
    "response1 = requests.get(f\"{BASE_URL}&postalcode={Zip_code}&country=kenya\")\n",
    "data1 = response1.json()\n",
    "data1"
   ]
  },
  {
   "cell_type": "code",
   "execution_count": 23,
   "id": "ae3a65b7",
   "metadata": {},
   "outputs": [
    {
     "data": {
      "text/plain": [
       "('-0.26204341666666664', '36.10146096666667')"
      ]
     },
     "execution_count": 23,
     "metadata": {},
     "output_type": "execute_result"
    }
   ],
   "source": [
    "# extracting the latitude and longitude of the zip code\n",
    "latitude1 = data1[0].get('lat')\n",
    "longitude1 = data1[0].get('lon')\n",
    "\n",
    "(latitude1, longitude1)"
   ]
  },
  {
   "cell_type": "markdown",
   "id": "bde01253",
   "metadata": {},
   "source": [
    "Using Folium Library to Determine the didstance between postal and zip codes."
   ]
  },
  {
   "cell_type": "code",
   "execution_count": 34,
   "id": "ecb486df",
   "metadata": {},
   "outputs": [
    {
     "data": {
      "text/html": [
       "<div style=\"width:100%;\"><div style=\"position:relative;width:100%;height:0;padding-bottom:60%;\"><span style=\"color:#565656\">Make this Notebook Trusted to load map: File -> Trust Notebook</span><iframe srcdoc=\"&lt;!DOCTYPE html&gt;\n",
       "&lt;html&gt;\n",
       "&lt;head&gt;\n",
       "    \n",
       "    &lt;meta http-equiv=&quot;content-type&quot; content=&quot;text/html; charset=UTF-8&quot; /&gt;\n",
       "    \n",
       "        &lt;script&gt;\n",
       "            L_NO_TOUCH = false;\n",
       "            L_DISABLE_3D = false;\n",
       "        &lt;/script&gt;\n",
       "    \n",
       "    &lt;style&gt;html, body {width: 100%;height: 100%;margin: 0;padding: 0;}&lt;/style&gt;\n",
       "    &lt;style&gt;#map {position:absolute;top:0;bottom:0;right:0;left:0;}&lt;/style&gt;\n",
       "    &lt;script src=&quot;https://cdn.jsdelivr.net/npm/leaflet@1.9.3/dist/leaflet.js&quot;&gt;&lt;/script&gt;\n",
       "    &lt;script src=&quot;https://code.jquery.com/jquery-1.12.4.min.js&quot;&gt;&lt;/script&gt;\n",
       "    &lt;script src=&quot;https://cdn.jsdelivr.net/npm/bootstrap@5.2.2/dist/js/bootstrap.bundle.min.js&quot;&gt;&lt;/script&gt;\n",
       "    &lt;script src=&quot;https://cdnjs.cloudflare.com/ajax/libs/Leaflet.awesome-markers/2.0.2/leaflet.awesome-markers.js&quot;&gt;&lt;/script&gt;\n",
       "    &lt;link rel=&quot;stylesheet&quot; href=&quot;https://cdn.jsdelivr.net/npm/leaflet@1.9.3/dist/leaflet.css&quot;/&gt;\n",
       "    &lt;link rel=&quot;stylesheet&quot; href=&quot;https://cdn.jsdelivr.net/npm/bootstrap@5.2.2/dist/css/bootstrap.min.css&quot;/&gt;\n",
       "    &lt;link rel=&quot;stylesheet&quot; href=&quot;https://netdna.bootstrapcdn.com/bootstrap/3.0.0/css/bootstrap.min.css&quot;/&gt;\n",
       "    &lt;link rel=&quot;stylesheet&quot; href=&quot;https://cdn.jsdelivr.net/npm/@fortawesome/fontawesome-free@6.2.0/css/all.min.css&quot;/&gt;\n",
       "    &lt;link rel=&quot;stylesheet&quot; href=&quot;https://cdnjs.cloudflare.com/ajax/libs/Leaflet.awesome-markers/2.0.2/leaflet.awesome-markers.css&quot;/&gt;\n",
       "    &lt;link rel=&quot;stylesheet&quot; href=&quot;https://cdn.jsdelivr.net/gh/python-visualization/folium/folium/templates/leaflet.awesome.rotate.min.css&quot;/&gt;\n",
       "    \n",
       "            &lt;meta name=&quot;viewport&quot; content=&quot;width=device-width,\n",
       "                initial-scale=1.0, maximum-scale=1.0, user-scalable=no&quot; /&gt;\n",
       "            &lt;style&gt;\n",
       "                #map_b33561b413ed5a850a05fb7335acd04b {\n",
       "                    position: relative;\n",
       "                    width: 1000.0px;\n",
       "                    height: 500.0px;\n",
       "                    left: 0.0%;\n",
       "                    top: 0.0%;\n",
       "                }\n",
       "                .leaflet-container { font-size: 1rem; }\n",
       "            &lt;/style&gt;\n",
       "        \n",
       "&lt;/head&gt;\n",
       "&lt;body&gt;\n",
       "    \n",
       "    \n",
       "            &lt;div class=&quot;folium-map&quot; id=&quot;map_b33561b413ed5a850a05fb7335acd04b&quot; &gt;&lt;/div&gt;\n",
       "        \n",
       "&lt;/body&gt;\n",
       "&lt;script&gt;\n",
       "    \n",
       "    \n",
       "            var map_b33561b413ed5a850a05fb7335acd04b = L.map(\n",
       "                &quot;map_b33561b413ed5a850a05fb7335acd04b&quot;,\n",
       "                {\n",
       "                    center: [-0.08174534666666666, 34.76856852],\n",
       "                    crs: L.CRS.EPSG3857,\n",
       "                    zoom: 10,\n",
       "                    zoomControl: true,\n",
       "                    preferCanvas: false,\n",
       "                }\n",
       "            );\n",
       "\n",
       "            \n",
       "\n",
       "        \n",
       "    \n",
       "            var tile_layer_d31c052acd3bb8d0ab05ae997bcb4047 = L.tileLayer(\n",
       "                &quot;https://{s}.tile.openstreetmap.org/{z}/{x}/{y}.png&quot;,\n",
       "                {&quot;attribution&quot;: &quot;Data by \\u0026copy; \\u003ca target=\\&quot;_blank\\&quot; href=\\&quot;http://openstreetmap.org\\&quot;\\u003eOpenStreetMap\\u003c/a\\u003e, under \\u003ca target=\\&quot;_blank\\&quot; href=\\&quot;http://www.openstreetmap.org/copyright\\&quot;\\u003eODbL\\u003c/a\\u003e.&quot;, &quot;detectRetina&quot;: false, &quot;maxNativeZoom&quot;: 18, &quot;maxZoom&quot;: 18, &quot;minZoom&quot;: 0, &quot;noWrap&quot;: false, &quot;opacity&quot;: 1, &quot;subdomains&quot;: &quot;abc&quot;, &quot;tms&quot;: false}\n",
       "            ).addTo(map_b33561b413ed5a850a05fb7335acd04b);\n",
       "        \n",
       "    \n",
       "            var marker_53fa548693a353128ba22c1f82fab0e4 = L.marker(\n",
       "                [-0.08174534666666666, 34.76856852],\n",
       "                {}\n",
       "            ).addTo(map_b33561b413ed5a850a05fb7335acd04b);\n",
       "        \n",
       "    \n",
       "        var popup_41979a6d1789c1f2a148d153a771623d = L.popup({&quot;maxWidth&quot;: &quot;100%&quot;});\n",
       "\n",
       "        \n",
       "            \n",
       "                var html_d99abe92a4bd01ff497c1d0e0a045076 = $(`&lt;div id=&quot;html_d99abe92a4bd01ff497c1d0e0a045076&quot; style=&quot;width: 100.0%; height: 100.0%;&quot;&gt;Kisumu Postal Code&lt;/div&gt;`)[0];\n",
       "                popup_41979a6d1789c1f2a148d153a771623d.setContent(html_d99abe92a4bd01ff497c1d0e0a045076);\n",
       "            \n",
       "        \n",
       "\n",
       "        marker_53fa548693a353128ba22c1f82fab0e4.bindPopup(popup_41979a6d1789c1f2a148d153a771623d)\n",
       "        ;\n",
       "\n",
       "        \n",
       "    \n",
       "    \n",
       "            var marker_c5695c8eb48b71df80e6b28c4d79ea1b = L.marker(\n",
       "                [-0.26204341666666664, 36.10146096666667],\n",
       "                {}\n",
       "            ).addTo(map_b33561b413ed5a850a05fb7335acd04b);\n",
       "        \n",
       "    \n",
       "        var popup_08bb45f110a4fa9c5412bf76205269ea = L.popup({&quot;maxWidth&quot;: &quot;100%&quot;});\n",
       "\n",
       "        \n",
       "            \n",
       "                var html_5e31ca9b424543bfb1eb45c2c58050ce = $(`&lt;div id=&quot;html_5e31ca9b424543bfb1eb45c2c58050ce&quot; style=&quot;width: 100.0%; height: 100.0%;&quot;&gt;Nakuru Postal Code&lt;/div&gt;`)[0];\n",
       "                popup_08bb45f110a4fa9c5412bf76205269ea.setContent(html_5e31ca9b424543bfb1eb45c2c58050ce);\n",
       "            \n",
       "        \n",
       "\n",
       "        marker_c5695c8eb48b71df80e6b28c4d79ea1b.bindPopup(popup_08bb45f110a4fa9c5412bf76205269ea)\n",
       "        ;\n",
       "\n",
       "        \n",
       "    \n",
       "&lt;/script&gt;\n",
       "&lt;/html&gt;\" style=\"position:absolute;width:100%;height:100%;left:0;top:0;border:none !important;\" allowfullscreen webkitallowfullscreen mozallowfullscreen></iframe></div></div>"
      ],
      "text/plain": [
       "<folium.folium.Map at 0x2d520e46610>"
      ]
     },
     "execution_count": 34,
     "metadata": {},
     "output_type": "execute_result"
    }
   ],
   "source": [
    "# importing folium library\n",
    "import folium\n",
    "\n",
    "location = float(latitude), float(longitude)\n",
    "location1 = float(latitude1), float(longitude1)\n",
    "\n",
    "m = folium.Map(location = location, width = 1000, height = 500)\n",
    "\n",
    "folium.Marker(location, popup = \"Kisumu Postal Code\").add_to(m)\n",
    "folium.Marker(location1, popup = \"Nakuru Postal Code\").add_to(m)\n",
    "\n",
    "m"
   ]
  },
  {
   "cell_type": "markdown",
   "id": "b6bb347b",
   "metadata": {},
   "source": [
    "Finding the distance between two specified latitudes and longitudes points using Geopy distance Library."
   ]
  },
  {
   "cell_type": "code",
   "execution_count": 36,
   "id": "da3c10d7",
   "metadata": {},
   "outputs": [
    {
     "name": "stdout",
     "output_type": "stream",
     "text": [
      "Collecting geopy\n",
      "  Downloading geopy-2.4.1-py3-none-any.whl (125 kB)\n",
      "Collecting geographiclib<3,>=1.52\n",
      "  Downloading geographiclib-2.0-py3-none-any.whl (40 kB)\n",
      "Installing collected packages: geographiclib, geopy\n",
      "Successfully installed geographiclib-2.0 geopy-2.4.1\n"
     ]
    }
   ],
   "source": [
    "# installing geopy\n",
    "!pip install geopy"
   ]
  },
  {
   "cell_type": "code",
   "execution_count": 37,
   "id": "b04ed4f7",
   "metadata": {},
   "outputs": [
    {
     "data": {
      "text/plain": [
       "(Distance(149.70954995458726), 93.02520154459658)"
      ]
     },
     "execution_count": 37,
     "metadata": {},
     "output_type": "execute_result"
    }
   ],
   "source": [
    "# importing libraries\n",
    "from geopy.distance import distance\n",
    "\n",
    "km = distance(location, location1)\n",
    "\n",
    "miles = distance(location, location1).miles\n",
    "\n",
    "km, miles"
   ]
  },
  {
   "cell_type": "code",
   "execution_count": 39,
   "id": "9ef48c82",
   "metadata": {},
   "outputs": [
    {
     "data": {
      "text/html": [
       "<div style=\"width:100%;\"><div style=\"position:relative;width:100%;height:0;padding-bottom:60%;\"><span style=\"color:#565656\">Make this Notebook Trusted to load map: File -> Trust Notebook</span><iframe srcdoc=\"&lt;!DOCTYPE html&gt;\n",
       "&lt;html&gt;\n",
       "&lt;head&gt;\n",
       "    \n",
       "    &lt;meta http-equiv=&quot;content-type&quot; content=&quot;text/html; charset=UTF-8&quot; /&gt;\n",
       "    \n",
       "        &lt;script&gt;\n",
       "            L_NO_TOUCH = false;\n",
       "            L_DISABLE_3D = false;\n",
       "        &lt;/script&gt;\n",
       "    \n",
       "    &lt;style&gt;html, body {width: 100%;height: 100%;margin: 0;padding: 0;}&lt;/style&gt;\n",
       "    &lt;style&gt;#map {position:absolute;top:0;bottom:0;right:0;left:0;}&lt;/style&gt;\n",
       "    &lt;script src=&quot;https://cdn.jsdelivr.net/npm/leaflet@1.9.3/dist/leaflet.js&quot;&gt;&lt;/script&gt;\n",
       "    &lt;script src=&quot;https://code.jquery.com/jquery-1.12.4.min.js&quot;&gt;&lt;/script&gt;\n",
       "    &lt;script src=&quot;https://cdn.jsdelivr.net/npm/bootstrap@5.2.2/dist/js/bootstrap.bundle.min.js&quot;&gt;&lt;/script&gt;\n",
       "    &lt;script src=&quot;https://cdnjs.cloudflare.com/ajax/libs/Leaflet.awesome-markers/2.0.2/leaflet.awesome-markers.js&quot;&gt;&lt;/script&gt;\n",
       "    &lt;link rel=&quot;stylesheet&quot; href=&quot;https://cdn.jsdelivr.net/npm/leaflet@1.9.3/dist/leaflet.css&quot;/&gt;\n",
       "    &lt;link rel=&quot;stylesheet&quot; href=&quot;https://cdn.jsdelivr.net/npm/bootstrap@5.2.2/dist/css/bootstrap.min.css&quot;/&gt;\n",
       "    &lt;link rel=&quot;stylesheet&quot; href=&quot;https://netdna.bootstrapcdn.com/bootstrap/3.0.0/css/bootstrap.min.css&quot;/&gt;\n",
       "    &lt;link rel=&quot;stylesheet&quot; href=&quot;https://cdn.jsdelivr.net/npm/@fortawesome/fontawesome-free@6.2.0/css/all.min.css&quot;/&gt;\n",
       "    &lt;link rel=&quot;stylesheet&quot; href=&quot;https://cdnjs.cloudflare.com/ajax/libs/Leaflet.awesome-markers/2.0.2/leaflet.awesome-markers.css&quot;/&gt;\n",
       "    &lt;link rel=&quot;stylesheet&quot; href=&quot;https://cdn.jsdelivr.net/gh/python-visualization/folium/folium/templates/leaflet.awesome.rotate.min.css&quot;/&gt;\n",
       "    \n",
       "            &lt;meta name=&quot;viewport&quot; content=&quot;width=device-width,\n",
       "                initial-scale=1.0, maximum-scale=1.0, user-scalable=no&quot; /&gt;\n",
       "            &lt;style&gt;\n",
       "                #map_17d2951566dbf6e2b102cd803f1a1436 {\n",
       "                    position: relative;\n",
       "                    width: 1000.0px;\n",
       "                    height: 500.0px;\n",
       "                    left: 0.0%;\n",
       "                    top: 0.0%;\n",
       "                }\n",
       "                .leaflet-container { font-size: 1rem; }\n",
       "            &lt;/style&gt;\n",
       "        \n",
       "&lt;/head&gt;\n",
       "&lt;body&gt;\n",
       "    \n",
       "    \n",
       "            &lt;div class=&quot;folium-map&quot; id=&quot;map_17d2951566dbf6e2b102cd803f1a1436&quot; &gt;&lt;/div&gt;\n",
       "        \n",
       "&lt;/body&gt;\n",
       "&lt;script&gt;\n",
       "    \n",
       "    \n",
       "            var map_17d2951566dbf6e2b102cd803f1a1436 = L.map(\n",
       "                &quot;map_17d2951566dbf6e2b102cd803f1a1436&quot;,\n",
       "                {\n",
       "                    center: [-0.08174534666666666, 34.76856852],\n",
       "                    crs: L.CRS.EPSG3857,\n",
       "                    zoom: 10,\n",
       "                    zoomControl: true,\n",
       "                    preferCanvas: false,\n",
       "                }\n",
       "            );\n",
       "\n",
       "            \n",
       "\n",
       "        \n",
       "    \n",
       "            var tile_layer_fda5b1acad2a5e4c30129cc886aa02a2 = L.tileLayer(\n",
       "                &quot;https://{s}.tile.openstreetmap.org/{z}/{x}/{y}.png&quot;,\n",
       "                {&quot;attribution&quot;: &quot;Data by \\u0026copy; \\u003ca target=\\&quot;_blank\\&quot; href=\\&quot;http://openstreetmap.org\\&quot;\\u003eOpenStreetMap\\u003c/a\\u003e, under \\u003ca target=\\&quot;_blank\\&quot; href=\\&quot;http://www.openstreetmap.org/copyright\\&quot;\\u003eODbL\\u003c/a\\u003e.&quot;, &quot;detectRetina&quot;: false, &quot;maxNativeZoom&quot;: 18, &quot;maxZoom&quot;: 18, &quot;minZoom&quot;: 0, &quot;noWrap&quot;: false, &quot;opacity&quot;: 1, &quot;subdomains&quot;: &quot;abc&quot;, &quot;tms&quot;: false}\n",
       "            ).addTo(map_17d2951566dbf6e2b102cd803f1a1436);\n",
       "        \n",
       "    \n",
       "            var marker_469cf9b0aad636d7f2cc582f2870b085 = L.marker(\n",
       "                [-0.08174534666666666, 34.76856852],\n",
       "                {}\n",
       "            ).addTo(map_17d2951566dbf6e2b102cd803f1a1436);\n",
       "        \n",
       "    \n",
       "        var popup_09d87e42a9d5266e4d96474b5c888565 = L.popup({&quot;maxWidth&quot;: &quot;100%&quot;});\n",
       "\n",
       "        \n",
       "            \n",
       "                var html_fd8b3156a82a78b79f39fba248b72a95 = $(`&lt;div id=&quot;html_fd8b3156a82a78b79f39fba248b72a95&quot; style=&quot;width: 100.0%; height: 100.0%;&quot;&gt;Kisumu Postal Code&lt;/div&gt;`)[0];\n",
       "                popup_09d87e42a9d5266e4d96474b5c888565.setContent(html_fd8b3156a82a78b79f39fba248b72a95);\n",
       "            \n",
       "        \n",
       "\n",
       "        marker_469cf9b0aad636d7f2cc582f2870b085.bindPopup(popup_09d87e42a9d5266e4d96474b5c888565)\n",
       "        ;\n",
       "\n",
       "        \n",
       "    \n",
       "    \n",
       "            var marker_9a5d462fec6322613f1c8606dfdde285 = L.marker(\n",
       "                [-0.26204341666666664, 36.10146096666667],\n",
       "                {}\n",
       "            ).addTo(map_17d2951566dbf6e2b102cd803f1a1436);\n",
       "        \n",
       "    \n",
       "        var popup_61bec49a83d90c578f6ec3e67e459d0e = L.popup({&quot;maxWidth&quot;: &quot;100%&quot;});\n",
       "\n",
       "        \n",
       "            \n",
       "                var html_d81924329ca5c5a098a486f68075e6c3 = $(`&lt;div id=&quot;html_d81924329ca5c5a098a486f68075e6c3&quot; style=&quot;width: 100.0%; height: 100.0%;&quot;&gt;Nakuru Postal Code&lt;/div&gt;`)[0];\n",
       "                popup_61bec49a83d90c578f6ec3e67e459d0e.setContent(html_d81924329ca5c5a098a486f68075e6c3);\n",
       "            \n",
       "        \n",
       "\n",
       "        marker_9a5d462fec6322613f1c8606dfdde285.bindPopup(popup_61bec49a83d90c578f6ec3e67e459d0e)\n",
       "        ;\n",
       "\n",
       "        \n",
       "    \n",
       "    \n",
       "            var poly_line_b0647a31f7a490a4447f9c94bb5a1eb3 = L.polyline(\n",
       "                [[-0.08174534666666666, 34.76856852], [-0.26204341666666664, 36.10146096666667]],\n",
       "                {&quot;bubblingMouseEvents&quot;: true, &quot;color&quot;: &quot;#3388ff&quot;, &quot;dashArray&quot;: null, &quot;dashOffset&quot;: null, &quot;fill&quot;: false, &quot;fillColor&quot;: &quot;#3388ff&quot;, &quot;fillOpacity&quot;: 0.2, &quot;fillRule&quot;: &quot;evenodd&quot;, &quot;lineCap&quot;: &quot;round&quot;, &quot;lineJoin&quot;: &quot;round&quot;, &quot;noClip&quot;: false, &quot;opacity&quot;: 1.0, &quot;smoothFactor&quot;: 1.0, &quot;stroke&quot;: true, &quot;weight&quot;: 3}\n",
       "            ).addTo(map_17d2951566dbf6e2b102cd803f1a1436);\n",
       "        \n",
       "&lt;/script&gt;\n",
       "&lt;/html&gt;\" style=\"position:absolute;width:100%;height:100%;left:0;top:0;border:none !important;\" allowfullscreen webkitallowfullscreen mozallowfullscreen></iframe></div></div>"
      ],
      "text/plain": [
       "<folium.folium.Map at 0x2d520f5cd00>"
      ]
     },
     "execution_count": 39,
     "metadata": {},
     "output_type": "execute_result"
    }
   ],
   "source": [
    "# drawing a line between two points in a folium map\n",
    "location = float(latitude), float(longitude)\n",
    "location1 = float(latitude1), float(longitude1)\n",
    "\n",
    "m = folium.Map(location = location, width = 1000, height = 500)\n",
    "\n",
    "folium.Marker(location, popup = \"Kisumu Postal Code\").add_to(m)\n",
    "folium.Marker(location1, popup = \"Nakuru Postal Code\").add_to(m)\n",
    "\n",
    "folium.PolyLine((location, location1)).add_to(m)\n",
    "\n",
    "m"
   ]
  },
  {
   "cell_type": "code",
   "execution_count": null,
   "id": "f5195f5c",
   "metadata": {},
   "outputs": [],
   "source": []
  }
 ],
 "metadata": {
  "kernelspec": {
   "display_name": "Python 3",
   "language": "python",
   "name": "python3"
  },
  "language_info": {
   "codemirror_mode": {
    "name": "ipython",
    "version": 3
   },
   "file_extension": ".py",
   "mimetype": "text/x-python",
   "name": "python",
   "nbconvert_exporter": "python",
   "pygments_lexer": "ipython3",
   "version": "3.8.8"
  }
 },
 "nbformat": 4,
 "nbformat_minor": 5
}
