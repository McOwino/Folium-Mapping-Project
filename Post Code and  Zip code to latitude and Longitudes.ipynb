{
 "cells": [
  {
   "cell_type": "code",
   "execution_count": 1,
   "id": "ccaa22f8",
   "metadata": {},
   "outputs": [],
   "source": [
    "# importing the necessary lbraries\n",
    "import requests\n",
    "from pprint import pprint"
   ]
  },
  {
   "cell_type": "markdown",
   "id": "f7d677b6",
   "metadata": {},
   "source": [
    "Specifying the Base Url of the Nominatim API that converts the zip amd postal codes to longitudes and latitudes and vice versa. The Nominatim API employs the openstreetmap system."
   ]
  },
  {
   "cell_type": "code",
   "execution_count": null,
   "id": "96b67165",
   "metadata": {},
   "outputs": [],
   "source": [
    "BASE_URL= https://nominatim.openstreetmap.org/search?format=json\n"
   ]
  }
 ],
 "metadata": {
  "kernelspec": {
   "display_name": "Python 3",
   "language": "python",
   "name": "python3"
  },
  "language_info": {
   "codemirror_mode": {
    "name": "ipython",
    "version": 3
   },
   "file_extension": ".py",
   "mimetype": "text/x-python",
   "name": "python",
   "nbconvert_exporter": "python",
   "pygments_lexer": "ipython3",
   "version": "3.8.8"
  }
 },
 "nbformat": 4,
 "nbformat_minor": 5
}
