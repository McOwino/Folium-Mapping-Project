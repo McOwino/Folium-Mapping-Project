{
 "cells": [
  {
   "cell_type": "code",
   "execution_count": 1,
   "id": "f35c8a37",
   "metadata": {},
   "outputs": [],
   "source": [
    "# importing the necessary lbraries\n",
    "import requests\n",
    "from pprint import pprint"
   ]
  },
  {
   "cell_type": "markdown",
   "id": "e46bfe96",
   "metadata": {},
   "source": [
    "Specifying the Base Url of the Nominatim API that converts the zip amd postal codes to longitudes and latitudes and vice versa. The Nominatim API employs the openstreetmap system."
   ]
  },
  {
   "cell_type": "code",
   "execution_count": 4,
   "id": "bffb6487",
   "metadata": {},
   "outputs": [],
   "source": [
    "BASE_URL= 'https://nominatim.openstreetmap.org/search?format=json'"
   ]
  },
  {
   "cell_type": "markdown",
   "id": "3f27002a",
   "metadata": {},
   "source": [
    "using the GET request to obtain teh geo location of a sample zip and postal code"
   ]
  },
  {
   "cell_type": "code",
   "execution_count": 25,
   "id": "f05a715f",
   "metadata": {},
   "outputs": [
    {
     "data": {
      "text/plain": [
       "[{'place_id': 332943531,\n",
       "  'licence': 'Data © OpenStreetMap contributors, ODbL 1.0. http://osm.org/copyright',\n",
       "  'lat': '-0.08174534666666666',\n",
       "  'lon': '34.76856852',\n",
       "  'class': 'place',\n",
       "  'type': 'postcode',\n",
       "  'place_rank': 21,\n",
       "  'importance': 0.22500009999999993,\n",
       "  'addresstype': 'postcode',\n",
       "  'name': '40100',\n",
       "  'display_name': 'Railways ward, Kisumu, City of Kisumu, Kisumu West, 40100, Kisumu, Nyanza, Kenya',\n",
       "  'boundingbox': ['-0.2417453', '0.0782547', '34.6085685', '34.9285685']}]"
      ]
     },
     "execution_count": 25,
     "metadata": {},
     "output_type": "execute_result"
    }
   ],
   "source": [
    "post_code = 40100\n",
    "response = requests.get(f\"{BASE_URL}&postalcode={post_code}&country=kenya\")\n",
    "data = response.json()\n",
    "data"
   ]
  },
  {
   "cell_type": "markdown",
   "id": "beaf2396",
   "metadata": {},
   "source": [
    "getting the latitude and longitude of the data"
   ]
  },
  {
   "cell_type": "code",
   "execution_count": 26,
   "id": "54a3c169",
   "metadata": {},
   "outputs": [
    {
     "data": {
      "text/plain": [
       "('-0.08174534666666666', '34.76856852')"
      ]
     },
     "execution_count": 26,
     "metadata": {},
     "output_type": "execute_result"
    }
   ],
   "source": [
    "latitude = data[0].get('lat')\n",
    "longitude = data[0].get('lon')\n",
    "(latitude, longitude)"
   ]
  },
  {
   "cell_type": "code",
   "execution_count": 18,
   "id": "ba1c7fd6",
   "metadata": {},
   "outputs": [
    {
     "data": {
      "text/plain": [
       "[{'place_id': 332943508,\n",
       "  'licence': 'Data © OpenStreetMap contributors, ODbL 1.0. http://osm.org/copyright',\n",
       "  'lat': '-0.26204341666666664',\n",
       "  'lon': '36.10146096666667',\n",
       "  'class': 'place',\n",
       "  'type': 'postcode',\n",
       "  'place_rank': 21,\n",
       "  'importance': 0.22500009999999993,\n",
       "  'addresstype': 'postcode',\n",
       "  'name': '20100',\n",
       "  'display_name': 'Kiamaina ward, Bahati, 20100, Nakuru, Rift Valley, Kenya',\n",
       "  'boundingbox': ['-0.4220434', '-0.1020434', '35.9414610', '36.2614610']}]"
      ]
     },
     "execution_count": 18,
     "metadata": {},
     "output_type": "execute_result"
    }
   ],
   "source": [
    "Zip_code = 20100\n",
    "response1 = requests.get(f\"{BASE_URL}&postalcode={Zip_code}&country=kenya\")\n",
    "data1 = response1.json()\n",
    "data1"
   ]
  },
  {
   "cell_type": "code",
   "execution_count": 23,
   "id": "c90b7f9d",
   "metadata": {},
   "outputs": [
    {
     "data": {
      "text/plain": [
       "('-0.26204341666666664', '36.10146096666667')"
      ]
     },
     "execution_count": 23,
     "metadata": {},
     "output_type": "execute_result"
    }
   ],
   "source": [
    "# extracting the latitude and longitude of the zip code\n",
    "latitude1 = data1[0].get('lat')\n",
    "longitude1 = data1[0].get('lon')\n",
    "\n",
    "(latitude1, longitude1)"
   ]
  },
  {
   "cell_type": "markdown",
   "id": "cfd0a7d6",
   "metadata": {},
   "source": [
    "Using Folium Library to Determine the didstance between postal and zip codes."
   ]
  },
  {
   "cell_type": "code",
   "execution_count": 27,
   "id": "de148afa",
   "metadata": {},
   "outputs": [],
   "source": [
    "# importing folium library\n",
    "import folium\n",
    "\n",
    "location = float(latitude), float(longitude)\n",
    "location1 = float(latitude1), float(longitude1)\n",
    "\n",
    "m = folium.Map(location = loc)"
   ]
  },
  {
   "cell_type": "code",
   "execution_count": null,
   "id": "849b4590",
   "metadata": {},
   "outputs": [],
   "source": []
  }
 ],
 "metadata": {
  "kernelspec": {
   "display_name": "Python 3",
   "language": "python",
   "name": "python3"
  },
  "language_info": {
   "codemirror_mode": {
    "name": "ipython",
    "version": 3
   },
   "file_extension": ".py",
   "mimetype": "text/x-python",
   "name": "python",
   "nbconvert_exporter": "python",
   "pygments_lexer": "ipython3",
   "version": "3.8.8"
  }
 },
 "nbformat": 4,
 "nbformat_minor": 5
}
